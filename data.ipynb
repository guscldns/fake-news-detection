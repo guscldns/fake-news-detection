import pandas as pd
import numpy as np
​
# 시스템
import os
import shutil
import zipfile
from zipfile import ZipFile
from io import BytesIO
from pathlib import Path
import json
​
# 정규표현식
import re
​
class EasyZip:
    def __init__(self, file_path):
        self.file_path = file_path
    
    def parseZipPath_simple(self): # file_path 내 각 압축폴더의 경로를 리스트로 반환합니다.
        Path(self.file_path).exists() # 파일 경로 유효성 검사
    
        zip_list = []
    
        for file in Path(self.file_path).iterdir(): # 해당 디렉토리 내 아이템 순회
            if str(file).endswith('.zip'): # zip확장자만 리스트에 추가
                zip_list.append(file)
    
        return zip_list
    
    
    def parseZipPath_dict(self):
        Path(self.file_path).exists() # 파일 경로 유효성 검사
​
        zip_list = []
    
        for file in Path(self.file_path).iterdir(): # 해당 디렉토리 내 아이템 순회
            if str(file).endswith('.zip'): # zip확장자만 리스트에 추가
                zip_list.append(file)
    
        for zip_file in zip_list:
            parse_path = str(zip_file).split('_')
    
        return zip_list
​
​
    def parseJson(self, zip_path): # return: [0] - json파일 이름(리스트), [1] - json 파일(리스트)
        json_file_name = []
        json_file = []
        
        # 압축 풀지 않고 json 열기
        with ZipFile(zip_path, 'r') as zip_obj: # 할당받은 압축파일 경로 zip_path 내부를 순회합니다.
            json_names_list = zip_obj.namelist() # 각 파일명을 리스트로 받습니다.
            for file_name in json_names_list: # 각 파일명을 순회하며
                if file_name.endswith('json'): # .json으로 끝나는 파일명이라면
                    zip_read = zip_obj.read(file_name) # 해당 파일을 읽습니다.
                    curr_json = json.loads(zip_read) # 읽어들인 json 파일(dict 형태로 파싱)
                    json_file_name.append(file_name) # file명만 따로 모으고
                    json_file.append(curr_json) # 파싱한 json 파일만 따로 모아서
        
        return json_file_name, json_file # 각각 반환
    
    
    def debugger(self):
        pass
​
file_path = '/Users/paul/Desktop/dummy/연습 폴더'
ez = EasyZip(file_path)

with open(f'{file_name}.pickle', 'wb') as f:
  pickle.dump(news, f)
  f.close()

# 불러오기
with open(f'{file_name}.pickle', 'rb') as fi:
  news_tk = pickle.load(fi)
  f.close()

# json_file 데이터프레임으로 바꾸는 함수
dic = {'newsID' : [],  'newsCategory': [], 'newsSubcategory': [],  'newsTitle':  [], 'sentenceContent' : [],'subjectConsistencyYn' : [], 'useType': []}
for row in tqdm(json_file):
    for len in row['labeledDataInfo']['processSentenceInfo']:
        dic['subjectConsistencyYn'].append(len['subjectConsistencyYn'])
        dic['sentenceContent'].append(len['sentenceContent'])
        dic['newsID'].append(row['sourceDataInfo']['newsID'])
        dic['newsCategory'].append(row['sourceDataInfo']['newsCategory'])
        dic['newsSubcategory'].append(row['sourceDataInfo']['newsSubcategory'])
        dic['newsTitle'].append(row['sourceDataInfo']['newsTitle'])
        dic['useType'].append(row['sourceDataInfo']['useType'])
df_sent = pd.DataFrame.from_dict(dic, orient='index')
df_sent = df_sent.transpose()
df_sent
